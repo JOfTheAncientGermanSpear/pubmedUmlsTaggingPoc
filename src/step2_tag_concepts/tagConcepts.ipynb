{
 "cells": [
  {
   "cell_type": "code",
   "execution_count": 8,
   "metadata": {
    "collapsed": false,
    "focus": false,
    "id": "67a96b36-e632-40a8-8aed-c74a54fe7635"
   },
   "outputs": [
    {
     "data": {
      "text/plain": [
       "\u001b[32mimport \u001b[36mscala.collection.JavaConversions._\u001b[0m"
      ]
     },
     "metadata": {},
     "output_type": "display_data"
    }
   ],
   "source": [
    "import scala.collection.JavaConversions._"
   ]
  },
  {
   "cell_type": "markdown",
   "metadata": {},
   "source": [
    "## Load Data From Step 1"
   ]
  },
  {
   "cell_type": "code",
   "execution_count": 1,
   "metadata": {
    "collapsed": false
   },
   "outputs": [
    {
     "name": "stdout",
     "output_type": "stream",
     "text": [
      "13 new artifact(s)"
     ]
    },
    {
     "name": "stderr",
     "output_type": "stream",
     "text": [
      "13 new artifacts in macro"
     ]
    },
    {
     "name": "stdout",
     "output_type": "stream",
     "text": [
      "\n"
     ]
    },
    {
     "name": "stderr",
     "output_type": "stream",
     "text": [
      "\n",
      "13 new artifacts in runtime\n",
      "13 new artifacts in compile\n"
     ]
    },
    {
     "data": {
      "text/plain": []
     },
     "metadata": {},
     "output_type": "display_data"
    }
   ],
   "source": [
    "classpath.add(\"com.typesafe.play\" %% \"play-json\" % \"2.5.6\")"
   ]
  },
  {
   "cell_type": "code",
   "execution_count": 349,
   "metadata": {
    "collapsed": false
   },
   "outputs": [
    {
     "data": {
      "text/plain": [
       "\u001b[32mimport \u001b[36mplay.api.libs.json._\u001b[0m\n",
       "\u001b[32mimport \u001b[36mscala.xml._\u001b[0m"
      ]
     },
     "metadata": {},
     "output_type": "display_data"
    }
   ],
   "source": [
    "import play.api.libs.json._\n",
    "import scala.xml._"
   ]
  },
  {
   "cell_type": "code",
   "execution_count": 10,
   "metadata": {
    "collapsed": false
   },
   "outputs": [
    {
     "data": {
      "text/plain": [
       "\u001b[36mstep1_dir\u001b[0m: \u001b[32mjava\u001b[0m.\u001b[32mio\u001b[0m.\u001b[32mFile\u001b[0m = ../../data/step1"
      ]
     },
     "metadata": {},
     "output_type": "display_data"
    }
   ],
   "source": [
    "val step1_dir = new java.io.File(\"../../data/step1/\")"
   ]
  },
  {
   "cell_type": "code",
   "execution_count": 34,
   "metadata": {
    "collapsed": false
   },
   "outputs": [
    {
     "data": {
      "text/plain": [
       "defined \u001b[32mfunction \u001b[36mcreateIdLookup\u001b[0m\n",
       "\u001b[36msummary_lookup\u001b[0m: \u001b[32mMap\u001b[0m[\u001b[32mString\u001b[0m, \u001b[32mString\u001b[0m] = \u001b[33mMap\u001b[0m(\n",
       "  \u001b[32m\"23091303\"\u001b[0m -> \u001b[32m\"../../data/step1/23091303_summary.json\"\u001b[0m,\n",
       "  \u001b[32m\"25819541\"\u001b[0m -> \u001b[32m\"../../data/step1/25819541_summary.json\"\u001b[0m,\n",
       "  \u001b[32m\"25485543\"\u001b[0m -> \u001b[32m\"../../data/step1/25485543_summary.json\"\u001b[0m,\n",
       "  \u001b[32m\"23112091\"\u001b[0m -> \u001b[32m\"../../data/step1/23112091_summary.json\"\u001b[0m,\n",
       "  \u001b[32m\"24423943\"\u001b[0m -> \u001b[32m\"../../data/step1/24423943_summary.json\"\u001b[0m,\n",
       "  \u001b[32m\"24275386\"\u001b[0m -> \u001b[32m\"../../data/step1/24275386_summary.json\"\u001b[0m,\n",
       "  \u001b[32m\"23414497\"\u001b[0m -> \u001b[32m\"../../data/step1/23414497_summary.json\"\u001b[0m,\n",
       "  \u001b[32m\"24424052\"\u001b[0m -> \u001b[32m\"../../data/step1/24424052_summary.json\"\u001b[0m,\n",
       "  \u001b[32m\"25569266\"\u001b[0m -> \u001b[32m\"../../data/step1/25569266_summary.json\"\u001b[0m,\n",
       "  \u001b[32m\"25447550\"\u001b[0m -> \u001b[32m\"../../data/step1/25447550_summary.json\"\u001b[0m,\n",
       "  \u001b[32m\"25503387\"\u001b[0m -> \u001b[32m\"../../data/step1/25503387_summary.json\"\u001b[0m,\n",
       "  \u001b[32m\"25239477\"\u001b[0m -> \u001b[32m\"../../data/step1/25239477_summary.json\"\u001b[0m,\n",
       "  \u001b[32m\"22160772\"\u001b[0m -> \u001b[32m\"../../data/step1/22160772_summary.json\"\u001b[0m,\n",
       "  \u001b[32m\"23970121\"\u001b[0m -> \u001b[32m\"../../data/step1/23970121_summary.json\"\u001b[0m,\n",
       "  \u001b[32m\"24131708\"\u001b[0m -> \u001b[32m\"../../data/step1/24131708_summary.json\"\u001b[0m,\n",
       "  \u001b[32m\"23996472\"\u001b[0m -> \u001b[32m\"../../data/step1/23996472_summary.json\"\u001b[0m,\n",
       "  \u001b[32m\"21790899\"\u001b[0m -> \u001b[32m\"../../data/step1/21790899_summary.json\"\u001b[0m,\n",
       "  \u001b[32m\"21764750\"\u001b[0m -> \u001b[32m\"../../data/step1/21764750_summary.json\"\u001b[0m,\n",
       "  \u001b[32m\"23327468\"\u001b[0m -> \u001b[32m\"../../data/step1/23327468_summary.json\"\u001b[0m,\n",
       "\u001b[33m...\u001b[0m\n",
       "\u001b[36mabstract_lookup\u001b[0m: \u001b[32mMap\u001b[0m[\u001b[32mString\u001b[0m, \u001b[32mString\u001b[0m] = \u001b[33mMap\u001b[0m(\n",
       "  \u001b[32m\"23091303\"\u001b[0m -> \u001b[32m\"../../data/step1/23091303_abstract.xml\"\u001b[0m,\n",
       "  \u001b[32m\"25819541\"\u001b[0m -> \u001b[32m\"../../data/step1/25819541_abstract.xml\"\u001b[0m,\n",
       "  \u001b[32m\"25485543\"\u001b[0m -> \u001b[32m\"../../data/step1/25485543_abstract.xml\"\u001b[0m,\n",
       "  \u001b[32m\"23112091\"\u001b[0m -> \u001b[32m\"../../data/step1/23112091_abstract.xml\"\u001b[0m,\n",
       "  \u001b[32m\"24423943\"\u001b[0m -> \u001b[32m\"../../data/step1/24423943_abstract.xml\"\u001b[0m,\n",
       "  \u001b[32m\"24275386\"\u001b[0m -> \u001b[32m\"../../data/step1/24275386_abstract.xml\"\u001b[0m,\n",
       "  \u001b[32m\"23414497\"\u001b[0m -> \u001b[32m\"../../data/step1/23414497_abstract.xml\"\u001b[0m,\n",
       "  \u001b[32m\"24424052\"\u001b[0m -> \u001b[32m\"../../data/step1/24424052_abstract.xml\"\u001b[0m,\n",
       "  \u001b[32m\"25569266\"\u001b[0m -> \u001b[32m\"../../data/step1/25569266_abstract.xml\"\u001b[0m,\n",
       "  \u001b[32m\"25447550\"\u001b[0m -> \u001b[32m\"../../data/step1/25447550_abstract.xml\"\u001b[0m,\n",
       "  \u001b[32m\"25503387\"\u001b[0m -> \u001b[32m\"../../data/step1/25503387_abstract.xml\"\u001b[0m,\n",
       "  \u001b[32m\"25239477\"\u001b[0m -> \u001b[32m\"../../data/step1/25239477_abstract.xml\"\u001b[0m,\n",
       "  \u001b[32m\"22160772\"\u001b[0m -> \u001b[32m\"../../data/step1/22160772_abstract.xml\"\u001b[0m,\n",
       "  \u001b[32m\"23970121\"\u001b[0m -> \u001b[32m\"../../data/step1/23970121_abstract.xml\"\u001b[0m,\n",
       "  \u001b[32m\"24131708\"\u001b[0m -> \u001b[32m\"../../data/step1/24131708_abstract.xml\"\u001b[0m,\n",
       "  \u001b[32m\"23996472\"\u001b[0m -> \u001b[32m\"../../data/step1/23996472_abstract.xml\"\u001b[0m,\n",
       "  \u001b[32m\"21790899\"\u001b[0m -> \u001b[32m\"../../data/step1/21790899_abstract.xml\"\u001b[0m,\n",
       "  \u001b[32m\"21764750\"\u001b[0m -> \u001b[32m\"../../data/step1/21764750_abstract.xml\"\u001b[0m,\n",
       "  \u001b[32m\"23327468\"\u001b[0m -> \u001b[32m\"../../data/step1/23327468_abstract.xml\"\u001b[0m,\n",
       "\u001b[33m...\u001b[0m"
      ]
     },
     "metadata": {},
     "output_type": "display_data"
    }
   ],
   "source": [
    "def createIdLookup(filter_fn:String => Boolean) = (for {\n",
    "    f <- step1_dir.listFiles\n",
    "    f_name = f.getName\n",
    "    if filter_fn(f_name)\n",
    "    id  = f_name.split('_')(0)\n",
    "} yield (id,  f.getPath)).toMap\n",
    "\n",
    "val summary_lookup = createIdLookup(_.endsWith(\"json\"))\n",
    "\n",
    "val abstract_lookup = createIdLookup(_.endsWith(\"xml\"))"
   ]
  },
  {
   "cell_type": "code",
   "execution_count": 116,
   "metadata": {
    "collapsed": false
   },
   "outputs": [
    {
     "data": {
      "text/plain": [
       "defined \u001b[32mclass \u001b[36mPmedSynopsis\u001b[0m"
      ]
     },
     "metadata": {},
     "output_type": "display_data"
    }
   ],
   "source": [
    "case class PmedSynopsis(title:String, article_abstract:Option[String])"
   ]
  },
  {
   "cell_type": "code",
   "execution_count": 117,
   "metadata": {
    "collapsed": false
   },
   "outputs": [
    {
     "data": {
      "text/plain": [
       "defined \u001b[32mfunction \u001b[36mloadAbstract\u001b[0m\n",
       "defined \u001b[32mfunction \u001b[36mloadTitle\u001b[0m\n",
       "defined \u001b[32mfunction \u001b[36midToPmedSynopsis\u001b[0m"
      ]
     },
     "metadata": {},
     "output_type": "display_data"
    }
   ],
   "source": [
    "def loadAbstract(id:String) = if (abstract_lookup.contains(id)) {\n",
    "    val xml = XML.loadFile(abstract_lookup(id))\n",
    "    Some((xml \\\\ \"AbstractText\").text)\n",
    "} else None\n",
    "\n",
    "def loadTitle(id:String) = {\n",
    "    val raw_string = scala.io.Source.fromFile(summary_lookup(id)).mkString\n",
    "    val js = json.Json.parse(raw_string)\n",
    "    (js \\ \"title\").as[String]\n",
    "}\n",
    "    \n",
    "\n",
    "def idToPmedSynopsis(id:String) = PmedSynopsis(loadTitle(id), loadAbstract(id))"
   ]
  },
  {
   "cell_type": "code",
   "execution_count": 118,
   "metadata": {
    "collapsed": false
   },
   "outputs": [
    {
     "data": {
      "text/plain": [
       "\u001b[36mpmeds\u001b[0m: \u001b[32mList\u001b[0m[\u001b[32mPmedSynopsis\u001b[0m] = \u001b[33mList\u001b[0m(\n",
       "  \u001b[33mPmedSynopsis\u001b[0m(\n",
       "    \u001b[32m\"Effects of Hatha yoga on blood pressure, salivary α-amylase, and cortisol function among normotensive and prehypertensive youth.\"\u001b[0m,\n",
       "    \u001b[33mSome\u001b[0m(\n",
       "      \u001b[32m\"Evidence is accumulating, predominantly among clinical trials in adults, that yoga improves blood pressure (BP) control, with downregulation of the hypothalamic-pituitary-adrenal (HPA) axis and the sympathetic nervous system (SNS) projected as underlying mechanisms. This pilot study assessed whether Hatha yoga has the potential to reduce BP among youth and whether dampening of the SNS and/or HPA activity is a likely pathway of change.Thirty-one seventh graders were randomly assigned to a Hatha yoga program (HYP) or attention control (AC) music or art class. Baseline and 3-month evaluations included resting BP; overnight urine samples; and saliva collected at bedtime, upon awakening, and at 30 and 60 minutes after awakening for α-amylase and cortisol assays.Twenty-eight (14 in the HYP group and 14 in the AC group) students were assessed both before and after the intervention. BP changes from pre- to post-intervention were -3.0/-2.0 mmHg for the HYP group and -0.07/-0.79 mmHg for the AC group (p=0.30 and 0.57, respectively). Changes in systolic BP (SBP)/diastolic BP (DBP) for the prehypertensive (75th-94th percentiles for SBP) subgroup analyses were -10.75/-8.25 mmHg for the H\u001b[33m...\u001b[0m"
      ]
     },
     "metadata": {},
     "output_type": "display_data"
    }
   ],
   "source": [
    "val pmeds = ids.map(idToPmedSynopsis).toList"
   ]
  },
  {
   "cell_type": "code",
   "execution_count": 119,
   "metadata": {
    "collapsed": false,
    "scrolled": false
   },
   "outputs": [
    {
     "data": {
      "text/plain": [
       "\u001b[36mres118\u001b[0m: \u001b[32mPmedSynopsis\u001b[0m = \u001b[33mPmedSynopsis\u001b[0m(\n",
       "  \u001b[32m\"Preliminary investigation of the effect of pulse rate on judgments of swallowing impairment and treatment recommendations.\"\u001b[0m,\n",
       "  \u001b[33mSome\u001b[0m(\n",
       "    \u001b[32m\"Reducing fluoroscopic pulse rate, a method used to reduce radiation exposure from modified barium swallow studies (MBSSs), decreases the number of images available from which to judge swallowing impairment. It is necessary to understand the impact of pulse rate reduction on judgments of swallowing impairment and, consequentially, treatment recommendations. This preliminary study explored differences in standardized MBSS measurements [Modified Barium Swallow Impairment Profile (MBSImP™©) and Penetration Aspiration Scale (PAS) Scores] between two pulse rates: 30 and simulated 15 pulses per second (pps). Two reliable speech-language pathologists (SLPs) scored all five MBSSs. Five SLPs reported treatment recommendations based on those scores. Differences in judgments of swallowing impairment were found between 30 and simulated 15 pps in all five MBSSs. These differences were in six physiological swallowing components: initiation of pharyngeal swallow, anterior hyoid excursion, epiglottic movement, pharyngeal contraction, pharyngeal-esophageal segment opening, and tongue base retraction. Differences in treatment recommendations were found between 30 and simulated 15 pps in all five MBSSs. These findings suggest that there are differences in both judgment of sw\u001b[33m...\u001b[0m"
      ]
     },
     "metadata": {},
     "output_type": "display_data"
    }
   ],
   "source": [
    "pmeds(1)"
   ]
  },
  {
   "cell_type": "markdown",
   "metadata": {},
   "source": [
    "## Analyze Data"
   ]
  },
  {
   "cell_type": "code",
   "execution_count": 120,
   "metadata": {
    "collapsed": false,
    "focus": true,
    "id": "5400e3e7-a232-4705-87af-9599dd69f75a"
   },
   "outputs": [
    {
     "data": {
      "text/plain": [
       "\u001b[36mmetamap_home\u001b[0m: \u001b[32mString\u001b[0m = \u001b[32m\"/Users/johnbonihalab/downloaded_opensource/metamap/public_mm/\"\u001b[0m\n",
       "\u001b[36mdist_home\u001b[0m: \u001b[32mString\u001b[0m = \u001b[32m\"/Users/johnbonihalab/downloaded_opensource/metamap/public_mm//src/javaapi/dist\"\u001b[0m"
      ]
     },
     "metadata": {},
     "output_type": "display_data"
    }
   ],
   "source": [
    "val metamap_home = sys.env(\"METAMAP_HOME\")\n",
    "val dist_home = s\"${metamap_home}/src/javaapi/dist\"\n",
    "\n",
    "classpath.addPath(s\"${dist_home}/MetaMapApi.jar\",\n",
    "                  s\"${dist_home}/prologbeans.jar\"\n",
    ")"
   ]
  },
  {
   "cell_type": "code",
   "execution_count": 121,
   "metadata": {
    "collapsed": false,
    "focus": false,
    "id": "ebc3110c-9966-4a91-a58f-8507cad9c117"
   },
   "outputs": [
    {
     "data": {
      "text/plain": [
       "\u001b[32mimport \u001b[36mgov.nih.nlm.nls.metamap.MetaMapApiImpl\u001b[0m"
      ]
     },
     "metadata": {},
     "output_type": "display_data"
    }
   ],
   "source": [
    "import gov.nih.nlm.nls.metamap.MetaMapApiImpl"
   ]
  },
  {
   "cell_type": "code",
   "execution_count": 328,
   "metadata": {
    "collapsed": false,
    "focus": false,
    "id": "d323221e-3e4e-46e1-b2b7-04d005144f5f"
   },
   "outputs": [
    {
     "data": {
      "text/plain": [
       "\u001b[36mapi\u001b[0m: \u001b[32mMetaMapApiImpl\u001b[0m = gov.nih.nlm.nls.metamap.MetaMapApiImpl@4de8e000"
      ]
     },
     "metadata": {},
     "output_type": "display_data"
    }
   ],
   "source": [
    "val api = new MetaMapApiImpl()"
   ]
  },
  {
   "cell_type": "code",
   "execution_count": 332,
   "metadata": {
    "collapsed": false
   },
   "outputs": [
    {
     "data": {
      "text/plain": []
     },
     "metadata": {},
     "output_type": "display_data"
    }
   ],
   "source": [
    "api.setOptions(\"-y\")"
   ]
  },
  {
   "cell_type": "code",
   "execution_count": 226,
   "metadata": {
    "collapsed": false
   },
   "outputs": [
    {
     "data": {
      "text/plain": [
       "defined \u001b[32mfunction \u001b[36mmkAscii\u001b[0m"
      ]
     },
     "metadata": {},
     "output_type": "display_data"
    }
   ],
   "source": [
    "def mkAscii(s: String): String = {\n",
    "    \"\\\\p{ASCII}\".r\n",
    "    p.findAllIn(s).toList.mkString //replace all not working\n",
    "}"
   ]
  },
  {
   "cell_type": "code",
   "execution_count": 286,
   "metadata": {
    "collapsed": false
   },
   "outputs": [
    {
     "data": {
      "text/plain": [
       "defined \u001b[32mfunction \u001b[36mdisplayEv\u001b[0m\n",
       "defined \u001b[32mfunction \u001b[36mdisplayMap\u001b[0m\n",
       "defined \u001b[32mfunction \u001b[36mdisplayPcm\u001b[0m\n",
       "defined \u001b[32mfunction \u001b[36mdisplayUtterance\u001b[0m\n",
       "defined \u001b[32mfunction \u001b[36mdisplayResult\u001b[0m"
      ]
     },
     "metadata": {},
     "output_type": "display_data"
    }
   ],
   "source": [
    "def displayEv(e:gov.nih.nlm.nls.metamap.Ev) = {\n",
    "    println(\"\\t\\tConcept Name: \" + e.getConceptName());\n",
    "    def printT(st:String) = println(s\"\\t\\t\\t${st}\")\n",
    "    \n",
    "    printT(\"Score: \" + e.getScore());\n",
    "    printT(\"Concept Id: \" + e.getConceptId());\n",
    "    printT(\"Preferred Name: \" + e.getPreferredName());\n",
    "    printT(\"Matched Words: \" + e.getMatchedWords());\n",
    "    printT(\"Semantic Types: \" + e.getSemanticTypes());\n",
    "    printT(\"MatchMap: \" + e.getMatchMap());\n",
    "    printT(\"MatchMap alt. repr.: \" + e.getMatchMapList());\n",
    "    printT(\"is Head?: \" + e.isHead());\n",
    "    printT(\"is Overmatch?: \" + e.isOvermatch());\n",
    "    printT(\"Sources: \" + e.getSources());\n",
    "    printT(\"Positional Info: \" + e.getPositionalInfo());\n",
    "    printT(\"Pruning Status: \" + e.getPruningStatus());\n",
    "    printT(\"Negation Status: \" + e.getNegationStatus());\n",
    "}\n",
    "\n",
    "def displayMap(m:gov.nih.nlm.nls.metamap.Mapping) = {\n",
    "    println(\"\\tMap Score: \" + m.getScore())\n",
    "    println(s\"\\tNum evs: ${m.getEvList.length}\")\n",
    "    m.getEvList.map(displayEv(_))\n",
    "}\n",
    "\n",
    "def displayPcm(p:gov.nih.nlm.nls.metamap.PCM) = p.getMappingList.map(displayMap(_))\n",
    "\n",
    "def displayUtterance(u:gov.nih.nlm.nls.metamap.Utterance) = {\n",
    "    println(\"utterance\")\n",
    "    println(u.getString)\n",
    "    u.getPCMList.map(displayPcm(_))\n",
    "}\n",
    "\n",
    "def displayResult(r:gov.nih.nlm.nls.metamap.Result) = {\n",
    "    println(\"result\")\n",
    "    r.getUtteranceList.map(displayUtterance(_))\n",
    "}"
   ]
  },
  {
   "cell_type": "code",
   "execution_count": 418,
   "metadata": {
    "collapsed": false
   },
   "outputs": [
    {
     "data": {
      "text/plain": [
       "defined \u001b[32mtype \u001b[36mEvaluation\u001b[0m\n",
       "defined \u001b[32mtype \u001b[36mResult\u001b[0m\n",
       "defined \u001b[32mfunction \u001b[36mmatchMapToJson\u001b[0m\n",
       "defined \u001b[32mfunction \u001b[36mevalToJson\u001b[0m\n",
       "defined \u001b[32mfunction \u001b[36mresultToJson\u001b[0m\n",
       "defined \u001b[32mfunction \u001b[36mresultsToJson\u001b[0m"
      ]
     },
     "metadata": {},
     "output_type": "display_data"
    }
   ],
   "source": [
    "type Evaluation = gov.nih.nlm.nls.metamap.Ev\n",
    "type Result = gov.nih.nlm.nls.metamap.Result\n",
    "\n",
    "def matchMapToJson(m:gov.nih.nlm.nls.metamap.MatchMap):JsValue = Json.obj(\n",
    "    \"phrase_start\" -> m.getPhraseMatchStart,\n",
    "    \"phrase_end\" -> m.getPhraseMatchEnd,\n",
    "    \"concept_start\" -> m.getConceptMatchStart,\n",
    "    \"concept_end\" -> m.getConceptMatchEnd,\n",
    "    \"lexical_variation\" -> m.getLexMatchVariation\n",
    ")\n",
    "\n",
    "def evalToJson(e:Evaluation):JsValue = {\n",
    "    Json.obj(\n",
    "        \"concept_name\" -> e.getConceptName(),\n",
    "        \"score\" -> e.getScore(),\n",
    "        \"concept_id\" -> e.getConceptId(),\n",
    "        \"preferred_name\" -> e.getPreferredName(),\n",
    "        \"matched_words\" -> e.getMatchedWords().map(JsString(_)),\n",
    "        \"match_map_list\" -> e.getMatchMapList.map(matchMapToJson(_)),\n",
    "        \"is_head\" -> e.isHead(),\n",
    "        \"is_overmatch\" -> e.isOvermatch(),\n",
    "        \"positional_info\" -> e.getPositionalInfo.map(p => Json.obj(\"x\" -> p.getX, \"y\" -> p.getY)),\n",
    "        \"pruning_status\" -> e.getPruningStatus(),\n",
    "        \"negation_status\" -> e.getNegationStatus()\n",
    "    )\n",
    "}\n",
    "\n",
    "def resultToJson(r:Result) = Json.obj(\n",
    "    \"utterances\" -> r.getUtteranceList.map(\n",
    "        u => Json.obj(\"text\" -> u.getString, \"pcms\" -> u.getPCMList.map(\n",
    "            p => Json.obj(\"maps\" -> p.getMappingList.map(\n",
    "                m => Json.obj(\"score\" -> m.getScore, \"evaluations\" -> m.getEvList.map(\n",
    "                    e => evalToJson(e)\n",
    "                ))\n",
    "            ))\n",
    "        ))\n",
    "    )\n",
    ")\n",
    "\n",
    "def resultsToJson(rs:List[Result]):JsValue = Json.obj(\"results\" -> rs.map(r => resultToJson(r)))"
   ]
  },
  {
   "cell_type": "code",
   "execution_count": 410,
   "metadata": {
    "collapsed": false
   },
   "outputs": [
    {
     "data": {
      "text/plain": [
       "\u001b[32mimport \u001b[36mjava.io._\u001b[0m"
      ]
     },
     "metadata": {},
     "output_type": "display_data"
    }
   ],
   "source": [
    "import java.io._"
   ]
  },
  {
   "cell_type": "code",
   "execution_count": 423,
   "metadata": {
    "collapsed": false
   },
   "outputs": [
    {
     "data": {
      "text/plain": [
       "defined \u001b[32mfunction \u001b[36mwriteJson\u001b[0m"
      ]
     },
     "metadata": {},
     "output_type": "display_data"
    }
   ],
   "source": [
    "def writeJson(j:JsValue, f_name:String) {\n",
    "    val dest_dir = \"../../data/step2/\"\n",
    "    val dest_f = s\"${dest_dir}${f_name}\"\n",
    "    val pw = new PrintWriter(new File(dest_f))\n",
    "    pw.write(Json.stringify(j))\n",
    "    pw.close()\n",
    "}"
   ]
  },
  {
   "cell_type": "markdown",
   "metadata": {},
   "source": [
    "## Simple Example"
   ]
  },
  {
   "cell_type": "code",
   "execution_count": 419,
   "metadata": {
    "collapsed": false,
    "scrolled": true
   },
   "outputs": [
    {
     "data": {
      "text/plain": [
       "\u001b[36mresults\u001b[0m: \u001b[32mjava\u001b[0m.\u001b[32mutil\u001b[0m.\u001b[32mList\u001b[0m[\u001b[32mResult\u001b[0m] = [[Acronym: MBSImP, Expansion: Modified Barium Swallow Impairment Profile, Count list: [1, 6, 9], CUI list: [], Acronym: MBSSs, Expansion: modified barium swallow studies, Count list: [1, 5, 7], CUI list: [], Acronym: PAS, Expansion: Penetration Aspiration Scale, Count list: [1, 3, 5], CUI list: [], Acronym: SLPs, Expansion: speech-language pathologists, Count list: [1, 4, 5], CUI list: [], Acronym: pps, Expansion: pulses per second, Count list: [1, 3, 5], CUI list: []][][utterance: 00000000.tx.1,Reducing fluoroscopic pulse rate, a method used to reduce radiation exposure from modified barium swallow studies (MBSSs), decreases the number of images available from which to judge swallowing impairment. ,(0, 207), utterance: 00000000.tx.2,It is necessary to understand the impact of pulse rate reduction on judgments of swallowing impairment and, consequentially, treatment recommendations. ,(207, 152), utterance: 00000000.tx.3,This preliminary study explored differences in standardized MBSS measurements [Modified Barium Swallow Impairment Profile (MBSImP) and Penetration Aspiration Scale (PAS) Scores] between two pulse rates: 30 and simulated 15 pulses per second (pps). ,(359, 248), utterance: 00000000.tx.4,Two reliable speech-language pathologists (SLPs) scored all five MBSSs. ,(607, 72), utterance: 00000000.tx.5,Five SLPs reported treatment recommendations based on those scores. ,(679, 68), utterance: 00000000.tx.6,Differences in judgments of swallowing impairment were found between 30 and simulated 15pps in all five MBSSs. ,(747, 111), utterance: 00000000.tx.7,These differences\u001b[33m...\u001b[0m"
      ]
     },
     "metadata": {},
     "output_type": "display_data"
    }
   ],
   "source": [
    "val results = api.processCitationsFromString(mkAscii(pmeds(1).article_abstract.get))"
   ]
  },
  {
   "cell_type": "code",
   "execution_count": 407,
   "metadata": {
    "collapsed": false
   },
   "outputs": [
    {
     "data": {
      "text/plain": [
       "defined \u001b[32mfunction \u001b[36mgetUniqueLengths\u001b[0m"
      ]
     },
     "metadata": {},
     "output_type": "display_data"
    }
   ],
   "source": [
    "def getUniqueLengths(r:Result) = (for {\n",
    "    u <- r.getUtteranceList\n",
    "    p <- u.getPCMList\n",
    "    m <- p.getMappingList\n",
    "} yield (r.getUtteranceList.length, u.getPCMList.length, p.getMappingList.length, m.getEvList.length)).toSet"
   ]
  },
  {
   "cell_type": "code",
   "execution_count": 421,
   "metadata": {
    "collapsed": false
   },
   "outputs": [
    {
     "data": {
      "text/plain": [
       "\u001b[36mj\u001b[0m: \u001b[32mJsValue\u001b[0m = {\"results\":[{\"utterances\":[{\"text\":\"Reducing fluoroscopic pulse rate, a method used to reduce radiation exposure from modified barium swallow studies (MBSSs), decreases the number of images available from which to judge swallowing impairment. \",\"pcms\":[{\"maps\":[{\"score\":-1000,\"evaluations\":[{\"concept_name\":\"Reducing\",\"score\":-1000,\"concept_id\":\"C0392756\",\"preferred_name\":\"Reduced\",\"matched_words\":[\"reducing\"],\"match_map_list\":[{\"phrase_start\":1,\"phrase_end\":1,\"concept_start\":1,\"concept_end\":1,\"lexical_variation\":0}],\"is_head\":true,\"is_overmatch\":false,\"positional_info\":[{\"x\":0,\"y\":8}],\"pruning_status\":0,\"negation_status\":0}]}]},{\"maps\":[{\"score\":-865,\"evaluations\":[{\"concept_name\":\"FLUOROSCOPY\",\"score\":-589,\"concept_id\":\"C0016356\",\"preferred_name\":\"Fluoroscopy\",\"matched_words\":[\"fluoroscopy\"],\"match_map_list\":[{\"phrase_start\":1,\"phrase_end\":1,\"concept_start\":1,\"concept_end\":1,\"lexical_variation\":3}],\"is_head\":false,\"is_overmatch\":false,\"positional_info\":[{\"x\":9,\"y\":12}],\"pruning_status\":0,\"negation_status\":0},{\"concept_name\":\"Pulse Rate\",\"score\":-901,\"concept_id\":\"C0391850\",\"preferred_name\":\"Physiologic pulse\",\"matched_words\":[\"pulse\",\"rate\"],\"match_map_list\":[{\"phrase_start\":2,\"phrase_end\":3,\"concept_start\":1,\"concept_end\":2,\"lexical_variation\":0}],\"is_head\":true,\"is_overmatch\":false,\"positional_info\":[{\"x\":22,\"y\":10}],\"pruning_status\":0,\"negation_status\":0}]}]},{\"maps\":[{\"score\":-1000,\"evaluations\":[{\"concept_name\":\"METHOD\",\"score\":-1000,\"concept_id\":\"C0871511\",\"preferred_name\":\"Test Method\",\"matched_words\":[\"method\"],\"match_map_list\":[{\"phrase_start\":1,\"phrase_end\":1,\"co\u001b[33m...\u001b[0m\n",
       "\u001b[36mres420_1\u001b[0m: \u001b[32mString\u001b[0m = \u001b[32m\"\"\"\n",
       "{\n",
       "  \"results\" : [ {\n",
       "    \"utterances\" : [ {\n",
       "      \"text\" : \"Reducing fluoroscopic pulse rate, a method used to reduce radiation exposure from modified barium swallow studies (MBSSs), decreases the number of images available from which to judge swallowing impairment. \",\n",
       "      \"pcms\" : [ {\n",
       "        \"maps\" : [ {\n",
       "          \"score\" : -1000,\n",
       "          \"evaluations\" : [ {\n",
       "            \"concept_name\" : \"Reducing\",\n",
       "            \"score\" : -1000,\n",
       "            \"concept_id\" : \"C0392756\",\n",
       "            \"preferred_name\" : \"Reduced\",\n",
       "            \"matched_words\" : [ \"reducing\" ],\n",
       "            \"match_map_list\" : [ {\n",
       "              \"phrase_start\" : 1,\n",
       "              \"phrase_end\" : 1,\n",
       "              \"concept_start\" : 1,\n",
       "\u001b[33m...\u001b[0m"
      ]
     },
     "metadata": {},
     "output_type": "display_data"
    }
   ],
   "source": [
    "val j = resultsToJson(results.toList)\n",
    "Json.prettyPrint(j)"
   ]
  },
  {
   "cell_type": "markdown",
   "metadata": {
    "collapsed": false
   },
   "source": [
    "## Process And Save Ids"
   ]
  },
  {
   "cell_type": "code",
   "execution_count": 426,
   "metadata": {
    "collapsed": false,
    "scrolled": true
   },
   "outputs": [
    {
     "name": "stdout",
     "output_type": "stream",
     "text": [
      "processing 23091303\n",
      "processing 25819541\n",
      "processing 25485543\n",
      "processing 23112091\n",
      "processing 24423943\n",
      "processing 24275386\n",
      "processing 23414497\n",
      "processing 24424052\n",
      "processing 25569266\n",
      "processing 25447550\n",
      "processing 25503387\n",
      "processing 25239477\n",
      "processing 22160772\n",
      "processing 23970121\n",
      "processing 24131708\n",
      "processing 23996472\n",
      "processing 21790899\n",
      "processing 21764750\n",
      "processing 23327468\n",
      "processing 25316192\n",
      "processing 23460266\n",
      "processing 24059877\n",
      "processing 24948438\n",
      "processing 22833143\n",
      "processing 25080585\n",
      "processing 24504811\n",
      "processing 24813546\n",
      "processing 22343643\n",
      "processing 25292181\n",
      "processing 23764885\n",
      "processing 23468661\n",
      "processing 21964742\n",
      "processing 22476155\n",
      "processing 22464253\n",
      "processing 22458676\n",
      "processing 24726861\n",
      "processing 22736507\n",
      "processing 23260612\n",
      "processing 22047054\n",
      "processing 23425628\n",
      "processing 24130510\n",
      "processing 22231568\n",
      "processing 24308511\n",
      "processing 25056757\n",
      "processing 23341932\n",
      "processing 23791324\n",
      "processing 22332856\n",
      "processing 23874208\n",
      "processing 22933581\n",
      "processing 24607757\n",
      "processing 23559454\n",
      "processing 22228809\n",
      "processing 24291671\n",
      "processing 23004679\n",
      "processing 21722364\n",
      "processing 23637325\n",
      "processing 23514936\n",
      "processing 24042162\n",
      "processing 19965690\n",
      "processing 24188687\n",
      "processing 22692431\n",
      "processing 24511124\n",
      "processing 23443736\n",
      "processing 22243973\n",
      "processing 24032670\n",
      "processing 25034899\n",
      "processing 22289400\n",
      "processing 22523428\n",
      "processing 25224988\n",
      "processing 24990892\n",
      "processing 22510352\n",
      "processing 23411743\n",
      "processing 24619391\n",
      "processing 21569442\n",
      "processing 21980518\n",
      "processing 22848194\n",
      "processing 22222338\n",
      "processing 23415658\n",
      "processing 23305649\n",
      "processing 22717491\n",
      "processing 22322590\n",
      "processing 24319654\n",
      "processing 24436362\n",
      "processing 21424864\n",
      "processing 20103585\n",
      "processing 22803743\n",
      "processing 24620850\n",
      "processing 24141489\n",
      "processing 23683344\n",
      "processing 24589213\n",
      "processing 25510273\n",
      "processing 24608900\n",
      "processing 24040012\n",
      "processing 24796428\n",
      "processing 24636721\n",
      "processing 23360332\n",
      "processing 23605292\n",
      "processing 21623021\n",
      "processing 22764263\n",
      "processing 23700431\n",
      "processing 25364473\n",
      "processing 22706327\n",
      "processing 23421569\n",
      "processing 24632412\n",
      "processing 22180294\n",
      "processing 24107863\n",
      "processing 22545725\n",
      "processing 20736037\n",
      "processing 24004517\n",
      "processing 25153568\n",
      "processing 20977537\n",
      "processing 24609852\n",
      "processing 25205108\n",
      "processing 24761006\n",
      "processing 24849926\n",
      "processing 22955018\n",
      "processing 20410070\n",
      "processing 22124619\n",
      "processing 22802909\n",
      "processing 22707406\n"
     ]
    },
    {
     "data": {
      "text/plain": [
       "defined \u001b[32mfunction \u001b[36mprocessAndWrite\u001b[0m\n",
       "defined \u001b[32mfunction \u001b[36mprocessAndWriteId\u001b[0m"
      ]
     },
     "metadata": {},
     "output_type": "display_data"
    }
   ],
   "source": [
    "def processAndWrite(s:String, f_name:String) {\n",
    "    val process_results:List[Result] = api.processCitationsFromString(mkAscii(s)).toList\n",
    "    val js = resultsToJson(process_results)\n",
    "    writeJson(js, f_name)\n",
    "}\n",
    "\n",
    "def processAndWriteId(id:String) {\n",
    "    println(s\"processing ${id}\")\n",
    "    \n",
    "    val pmed = idToPmedSynopsis(id)\n",
    "    \n",
    "    pmed.article_abstract.map(a => processAndWrite(a, s\"${id}_abstract.json\"))\n",
    "    processAndWrite(pmed.title, s\"${id}_title.json\")\n",
    "}\n",
    "\n",
    "for (i <- ids) processAndWriteId(i)"
   ]
  },
  {
   "cell_type": "code",
   "execution_count": null,
   "metadata": {
    "collapsed": true
   },
   "outputs": [],
   "source": []
  }
 ],
 "metadata": {
  "kernelspec": {
   "display_name": "Scala 2.11",
   "language": "scala211",
   "name": "scala211"
  },
  "language_info": {
   "codemirror_mode": "text/x-scala",
   "file_extension": ".scala",
   "mimetype": "text/x-scala",
   "name": "scala211",
   "pygments_lexer": "scala",
   "version": "2.11.8"
  }
 },
 "nbformat": 4,
 "nbformat_minor": 0
}
